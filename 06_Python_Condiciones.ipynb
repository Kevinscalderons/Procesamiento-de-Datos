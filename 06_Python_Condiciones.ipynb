{
  "cells": [
    {
      "cell_type": "markdown",
      "source": [
        "<h1>Procesamiento de Datos a Gran Escala</h1>\n",
        "\n",
        "## **Cuadernillo 05- Diccionarios**\n",
        "\n",
        "## **Elaborado Por: Kevin Santiago Calderón Sanchez**\n",
        "## **ID: 00020514087**"
      ],
      "metadata": {
        "application/vnd.databricks.v1+cell": {
          "title": "",
          "showTitle": false,
          "inputWidgets": {},
          "nuid": "29e4f563-e7a9-4579-b12a-d02dc1550b5e"
        },
        "id": "v8zY2sAIhlEe"
      }
    },
    {
      "cell_type": "markdown",
      "source": [
        "<h2>Condiciones en Python</h2>"
      ],
      "metadata": {
        "application/vnd.databricks.v1+cell": {
          "title": "",
          "showTitle": false,
          "inputWidgets": {},
          "nuid": "7e9494e2-9c96-4290-907d-2e1d7508b5ed"
        },
        "id": "kOZ6ufEdhlEl"
      }
    },
    {
      "cell_type": "markdown",
      "source": [
        "<h2 id=\"quiz\">Cuestionario sobre Condiciones</h2>"
      ],
      "metadata": {
        "application/vnd.databricks.v1+cell": {
          "title": "",
          "showTitle": false,
          "inputWidgets": {},
          "nuid": "1703ed23-e01a-4052-b611-41812138d525"
        },
        "id": "1Sq9O8cohlFv"
      }
    },
    {
      "cell_type": "markdown",
      "source": [
        "Escribe una declaración if que determine si un disco musical tiene una calificación mayor a 8. Compruébalo utilizando el calificación del disco <b>“Back in Black”</b> el cual tiene un valor de 8.5. Si la condición es verdadera, imprime “\"This album is Amazing!\"”"
      ],
      "metadata": {
        "application/vnd.databricks.v1+cell": {
          "title": "",
          "showTitle": false,
          "inputWidgets": {},
          "nuid": "be8175ec-7ec8-400f-9337-c389181aef0d"
        },
        "id": "p3uuUSP3hlFv"
      }
    },
    {
      "cell_type": "code",
      "source": [
        "# Escribe abajo tu código y presiona Shift+Enter para ejecutarlo\n",
        "\n",
        "rating = 8.5\n",
        "if rating > 8:\n",
        "    print (\"This album is Amazing!\")"
      ],
      "metadata": {
        "scrolled": true,
        "application/vnd.databricks.v1+cell": {
          "title": "",
          "showTitle": false,
          "inputWidgets": {},
          "nuid": "ba426d09-449c-4875-8ba8-652e7176c5b0"
        },
        "colab": {
          "base_uri": "https://localhost:8080/"
        },
        "id": "GSA8DMnXhlFw",
        "outputId": "050fc8cd-fee1-4701-c52d-4144268e0393"
      },
      "outputs": [
        {
          "output_type": "stream",
          "name": "stdout",
          "text": [
            "This album is Amazing!\n"
          ]
        }
      ],
      "execution_count": 1
    },
    {
      "cell_type": "markdown",
      "source": [
        "Escribe una declaración if-else que determine lo siguiente. Si la calificación es mayor que 8 imprime “this album is amazing”. Si es menor o igual a 8 que imprima “this album is ok”."
      ],
      "metadata": {
        "application/vnd.databricks.v1+cell": {
          "title": "",
          "showTitle": false,
          "inputWidgets": {},
          "nuid": "b6c1a3c7-309f-4c8c-b730-1bca9702934c"
        },
        "id": "8dcqejHEhlFx"
      }
    },
    {
      "cell_type": "code",
      "source": [
        "# Escribe abajo tu código y presiona Shift+Enter para ejecutarlo\n",
        "\n",
        "rating = 8.5\n",
        "if rating > 8:\n",
        "    print (\"this album is amazing\")\n",
        "else:\n",
        "    print (\"this album is ok\")"
      ],
      "metadata": {
        "application/vnd.databricks.v1+cell": {
          "title": "",
          "showTitle": false,
          "inputWidgets": {},
          "nuid": "1888187a-7d9e-44b7-8bb9-91343fea0c02"
        },
        "colab": {
          "base_uri": "https://localhost:8080/"
        },
        "id": "SKDEeSDnhlFy",
        "outputId": "b6fe2fd1-aa7f-46e1-e76e-a962c89ff0cc"
      },
      "outputs": [
        {
          "output_type": "stream",
          "name": "stdout",
          "text": [
            "this album is amazing\n"
          ]
        }
      ],
      "execution_count": 2
    },
    {
      "cell_type": "markdown",
      "source": [
        "Escribe una declaración if que determine si un disco fue lanzado antes de 1980 o en los años 1991 o 1993. Si la condición es verdadera imprime el año de lanzamiento."
      ],
      "metadata": {
        "application/vnd.databricks.v1+cell": {
          "title": "",
          "showTitle": false,
          "inputWidgets": {},
          "nuid": "ada543c5-9767-4c00-a008-bcada350d6e9"
        },
        "id": "DZk31nF6hlFz"
      }
    },
    {
      "cell_type": "code",
      "source": [
        "# Escribe abajo tu código y presiona Shift+Enter para ejecutarlo\n",
        "\n",
        "\n",
        "album_year = 1979\n",
        "\n",
        "if album_year < 1980 or album_year == 1991 or album_year == 1993:\n",
        "    print (album_year)"
      ],
      "metadata": {
        "application/vnd.databricks.v1+cell": {
          "title": "",
          "showTitle": false,
          "inputWidgets": {},
          "nuid": "8855a243-d6fb-403c-bb3b-3a5787a1fe08"
        },
        "colab": {
          "base_uri": "https://localhost:8080/"
        },
        "id": "wUPn8l9NhlF0",
        "outputId": "a3492d63-87d6-47f2-baa3-7ba76fd17de2"
      },
      "outputs": [
        {
          "output_type": "stream",
          "name": "stdout",
          "text": [
            "1979\n"
          ]
        }
      ],
      "execution_count": 4
    }
  ],
  "metadata": {
    "kernelspec": {
      "display_name": "Python 3",
      "language": "python",
      "name": "python3"
    },
    "language_info": {
      "mimetype": "text/x-python",
      "name": "python",
      "pygments_lexer": "ipython3",
      "codemirror_mode": {
        "name": "ipython",
        "version": 3
      },
      "version": "3.7.7",
      "nbconvert_exporter": "python",
      "file_extension": ".py"
    },
    "application/vnd.databricks.v1+notebook": {
      "notebookName": "06-Python-Condiciones",
      "dashboards": [],
      "notebookMetadata": {
        "pythonIndentUnit": 2
      },
      "language": "python",
      "widgets": {},
      "notebookOrigID": 3296315911138599
    },
    "colab": {
      "provenance": []
    }
  },
  "nbformat": 4,
  "nbformat_minor": 0
}