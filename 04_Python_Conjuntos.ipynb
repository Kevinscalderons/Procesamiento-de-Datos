{
  "cells": [
    {
      "cell_type": "markdown",
      "source": [
        "## **Cuadernillo 03- Python Listas**\n",
        "\n",
        "## **Elaborado Por: Kevin Santiago Calderón Sanchez**\n"
      ],
      "metadata": {
        "application/vnd.databricks.v1+cell": {
          "title": "",
          "showTitle": false,
          "inputWidgets": {},
          "nuid": "65c3d562-8f12-4b16-b6f3-cb3ff1bdcde4"
        },
        "id": "pgbuv8dUfPi0"
      }
    },
    {
      "cell_type": "markdown",
      "source": [
        "<h2>Conjuntos en Python</h2>"
      ],
      "metadata": {
        "application/vnd.databricks.v1+cell": {
          "title": "",
          "showTitle": false,
          "inputWidgets": {},
          "nuid": "4182cfaa-6acc-4585-a8ae-901617e5c908"
        },
        "id": "Ys9CMLMbfPi6"
      }
    },
    {
      "cell_type": "markdown",
      "source": [
        "<h2 id=\"quiz\">Cuestionario sobre conjuntos</h2>"
      ],
      "metadata": {
        "application/vnd.databricks.v1+cell": {
          "title": "",
          "showTitle": false,
          "inputWidgets": {},
          "nuid": "26d53c16-c01f-4835-a6e8-ee2ad7ef05bd"
        },
        "id": "RKNXE5SpfPj6"
      }
    },
    {
      "cell_type": "markdown",
      "source": [
        "Transformar la lista <code>['rap','house','electronic music', 'rap']</code> en un conjunto:"
      ],
      "metadata": {
        "application/vnd.databricks.v1+cell": {
          "title": "",
          "showTitle": false,
          "inputWidgets": {},
          "nuid": "74126b07-e95d-4dc7-956f-2b09e24be04b"
        },
        "id": "DwnpI7v6fPj6"
      }
    },
    {
      "cell_type": "code",
      "source": [
        "# Escribe abajo tu código y presiona Shift+Enter para ejecutarlo\n",
        "\n",
        "Conjunto= set(['rap','house','electronic music','rap'])\n",
        "Conjunto"
      ],
      "metadata": {
        "application/vnd.databricks.v1+cell": {
          "title": "",
          "showTitle": false,
          "inputWidgets": {},
          "nuid": "9423486d-6f4e-4bb5-aeb3-83de0c85361b"
        },
        "colab": {
          "base_uri": "https://localhost:8080/"
        },
        "id": "ANbl35tBfPj7",
        "outputId": "85e47bed-44f4-4e28-b99b-f44d060ced4e"
      },
      "outputs": [
        {
          "output_type": "execute_result",
          "data": {
            "text/plain": [
              "{'electronic music', 'house', 'rap'}"
            ]
          },
          "metadata": {},
          "execution_count": 2
        }
      ],
      "execution_count": 2
    },
    {
      "cell_type": "markdown",
      "source": [
        "Considera que la lista <code>A = [1, 2, 2, 1]</code> y el conjunto <code>B = set([1, 2, 2, 1])</code> suman <code>sum(A) = sum(B)</code>"
      ],
      "metadata": {
        "application/vnd.databricks.v1+cell": {
          "title": "",
          "showTitle": false,
          "inputWidgets": {},
          "nuid": "ad6e9914-2fda-429f-b732-5490e9490b9a"
        },
        "id": "RE7qVawrfPj8"
      }
    },
    {
      "cell_type": "code",
      "source": [
        "# Escribe abajo tu código y presiona Shift+Enter para ejecutarlo\n",
        "\n",
        "A = [1, 2, 2, 1]\n",
        "B = set([1, 2, 2, 1])\n",
        "print(\"la suma de A es:\", sum(A))\n",
        "print(\"la suma de B es:\", sum(B))"
      ],
      "metadata": {
        "application/vnd.databricks.v1+cell": {
          "title": "",
          "showTitle": false,
          "inputWidgets": {},
          "nuid": "697fa6ef-f466-4236-9fc6-d423a473c370"
        },
        "colab": {
          "base_uri": "https://localhost:8080/"
        },
        "id": "FO2jh6AufPj8",
        "outputId": "22308172-0399-4aa9-9e47-ab7feea27124"
      },
      "outputs": [
        {
          "output_type": "stream",
          "name": "stdout",
          "text": [
            "la suma de A es: 6\n",
            "la suma de B es: 3\n"
          ]
        }
      ],
      "execution_count": 4
    },
    {
      "cell_type": "markdown",
      "source": [
        "Crea un nuevo conjunto <code>album_set3</code> que sea la unión de <code>album_set1</code> y <code>album_set2</code>:"
      ],
      "metadata": {
        "application/vnd.databricks.v1+cell": {
          "title": "",
          "showTitle": false,
          "inputWidgets": {},
          "nuid": "b83ef1ae-b339-4d9c-ae67-1e13d8da9a61"
        },
        "id": "8fdbqdKofPj9"
      }
    },
    {
      "cell_type": "code",
      "source": [
        "# Escribe abajo tu código y presiona Shift+Enter para ejecutarlo\n",
        "\n",
        "album_set1 = set([\"Thriller\", 'AC/DC', 'Back in Black'])\n",
        "album_set2 = set([ \"AC/DC\", \"Back in Black\", \"The Dark Side of the Moon\"])\n",
        "\n",
        "\n",
        "album_set3 = album_set1.union(album_set2)\n",
        "album_set3"
      ],
      "metadata": {
        "application/vnd.databricks.v1+cell": {
          "title": "",
          "showTitle": false,
          "inputWidgets": {},
          "nuid": "f3d7d74d-a639-41f9-9d70-4e7278f24f39"
        },
        "colab": {
          "base_uri": "https://localhost:8080/"
        },
        "id": "csnjKV3WfPj-",
        "outputId": "3c818a84-fe18-42af-d8e7-bd96f96921a2"
      },
      "outputs": [
        {
          "output_type": "execute_result",
          "data": {
            "text/plain": [
              "{'AC/DC', 'Back in Black', 'The Dark Side of the Moon', 'Thriller'}"
            ]
          },
          "metadata": {},
          "execution_count": 5
        }
      ],
      "execution_count": 5
    },
    {
      "cell_type": "markdown",
      "source": [
        "Averigua si <code>album_set1</code> es un subconjunto de <code>album_set3</code>:"
      ],
      "metadata": {
        "application/vnd.databricks.v1+cell": {
          "title": "",
          "showTitle": false,
          "inputWidgets": {},
          "nuid": "86d9065c-fc26-4b5a-9deb-e7c517c4ac46"
        },
        "id": "bqTUXkUzfPj_"
      }
    },
    {
      "cell_type": "code",
      "source": [
        "# Escribe abajo tu código y presiona Shift+Enter para ejecutarlo\n",
        "\n",
        "album_set1.issubset(album_set3)"
      ],
      "metadata": {
        "application/vnd.databricks.v1+cell": {
          "title": "",
          "showTitle": false,
          "inputWidgets": {},
          "nuid": "c39979b3-b173-46a3-92a4-4610fbeeed79"
        },
        "colab": {
          "base_uri": "https://localhost:8080/"
        },
        "id": "KqdU2vnEfPj_",
        "outputId": "51ec6ab6-8d75-463c-9be0-cbfafa1ba89c"
      },
      "outputs": [
        {
          "output_type": "execute_result",
          "data": {
            "text/plain": [
              "True"
            ]
          },
          "metadata": {},
          "execution_count": 6
        }
      ],
      "execution_count": 6
    }
  ],
  "metadata": {
    "kernelspec": {
      "display_name": "Python 3",
      "language": "python",
      "name": "python3"
    },
    "language_info": {
      "mimetype": "text/x-python",
      "name": "python",
      "pygments_lexer": "ipython3",
      "codemirror_mode": {
        "name": "ipython",
        "version": 3
      },
      "version": "3.7.7",
      "nbconvert_exporter": "python",
      "file_extension": ".py"
    },
    "application/vnd.databricks.v1+notebook": {
      "notebookName": "04-Python-Conjuntos",
      "dashboards": [],
      "notebookMetadata": {
        "pythonIndentUnit": 2
      },
      "language": "python",
      "widgets": {},
      "notebookOrigID": 3296315911137944
    },
    "colab": {
      "provenance": []
    }
  },
  "nbformat": 4,
  "nbformat_minor": 0
}