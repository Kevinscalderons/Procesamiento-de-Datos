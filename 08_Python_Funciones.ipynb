{
  "cells": [
    {
      "cell_type": "markdown",
      "source": [
        "<h1>Procesamiento de Datos a Gran Escala</h1>\n",
        "\n",
        "## **Cuadernillo 08- Funciones**\n",
        "\n",
        "## **Elaborado Por: Kevin Santiago Calderón Sanchez**\n",
        "## **ID: 00020514087**"
      ],
      "metadata": {
        "application/vnd.databricks.v1+cell": {
          "title": "",
          "showTitle": false,
          "inputWidgets": {},
          "nuid": "c5904a78-050c-49d5-9c42-b2556a65e0bc"
        },
        "id": "QMK6JlTQjXKs"
      }
    },
    {
      "cell_type": "markdown",
      "source": [
        "<h2>Funciones en Python</h2>"
      ],
      "metadata": {
        "application/vnd.databricks.v1+cell": {
          "title": "",
          "showTitle": false,
          "inputWidgets": {},
          "nuid": "020bd525-d2c0-4ef8-b192-d7052caacf30"
        },
        "id": "B5wf6-wkjXKz"
      }
    },
    {
      "cell_type": "markdown",
      "source": [
        "<h2>Cuestionario sobre funciones</h2>"
      ],
      "metadata": {
        "application/vnd.databricks.v1+cell": {
          "title": "",
          "showTitle": false,
          "inputWidgets": {},
          "nuid": "851b6283-eb16-46fe-bec7-47b67594b61d"
        },
        "id": "XM0lS2VWjXMA"
      }
    },
    {
      "cell_type": "markdown",
      "source": [
        "Cree una función que divida la primera entrada por la segunda entrada:"
      ],
      "metadata": {
        "application/vnd.databricks.v1+cell": {
          "title": "",
          "showTitle": false,
          "inputWidgets": {},
          "nuid": "68f62614-9c2d-4275-b042-9938d5a1c1f3"
        },
        "id": "UmQe8Lp2jXMB"
      }
    },
    {
      "cell_type": "code",
      "source": [
        "# Escribe abajo tu código y presiona Shift+Enter para ejecutarlo\n",
        "\n",
        "def division(a, b):\n",
        "    return(a/b)"
      ],
      "metadata": {
        "application/vnd.databricks.v1+cell": {
          "title": "",
          "showTitle": false,
          "inputWidgets": {},
          "nuid": "a0d4890b-a143-4d3a-803f-c07c7e76fea6"
        },
        "id": "rPpSivzojXMB"
      },
      "outputs": [],
      "execution_count": 1
    },
    {
      "cell_type": "markdown",
      "source": [
        "Utilice la función <code> con </code> para la siguiente pregunta."
      ],
      "metadata": {
        "application/vnd.databricks.v1+cell": {
          "title": "",
          "showTitle": false,
          "inputWidgets": {},
          "nuid": "fb677ca4-4394-4412-a4b1-30c16b947b43"
        },
        "id": "mvH5IAjsjXMC"
      }
    },
    {
      "cell_type": "code",
      "source": [
        "# Usa la función con para la siguiente pregunta\n",
        "\n",
        "def con(a, b):\n",
        "    return(a + b)"
      ],
      "metadata": {
        "application/vnd.databricks.v1+cell": {
          "title": "",
          "showTitle": false,
          "inputWidgets": {},
          "nuid": "2057c384-d762-4402-b8ba-1cca7fced9eb"
        },
        "id": "khCYfFcMjXMD"
      },
      "outputs": [],
      "execution_count": 3
    },
    {
      "cell_type": "markdown",
      "source": [
        "¿Se puede usar la función <code> con </code> que definimos antes para agregar números enteros o cadenas?"
      ],
      "metadata": {
        "application/vnd.databricks.v1+cell": {
          "title": "",
          "showTitle": false,
          "inputWidgets": {},
          "nuid": "7fb77ac6-5c71-41d7-9bdd-ab9753b1e676"
        },
        "id": "qK33jH-TjXME"
      }
    },
    {
      "cell_type": "code",
      "source": [
        "# Escribe abajo tu código y presiona Shift+Enter para ejecutarlo\n",
        "#Si claro, si podemos, por ejemplo:\n",
        "con(2, 2)"
      ],
      "metadata": {
        "application/vnd.databricks.v1+cell": {
          "title": "",
          "showTitle": false,
          "inputWidgets": {},
          "nuid": "52c8054c-284f-45d5-9065-df7790b35b06"
        },
        "colab": {
          "base_uri": "https://localhost:8080/"
        },
        "id": "ABerITABjXME",
        "outputId": "c435b74f-8dd5-4a02-b93e-cfb12337fef9"
      },
      "outputs": [
        {
          "output_type": "execute_result",
          "data": {
            "text/plain": [
              "4"
            ]
          },
          "metadata": {},
          "execution_count": 4
        }
      ],
      "execution_count": 4
    },
    {
      "cell_type": "markdown",
      "source": [
        "¿Se puede usar la función <code> con </code> que definimos antes para concentrar una lista o tupla?"
      ],
      "metadata": {
        "application/vnd.databricks.v1+cell": {
          "title": "",
          "showTitle": false,
          "inputWidgets": {},
          "nuid": "44a25b2a-a8d7-4985-abcc-183fabbb53cd"
        },
        "id": "AqLOXKK2jXMF"
      }
    },
    {
      "cell_type": "code",
      "source": [
        "# Escribe abajo tu código y presiona Shift+Enter para ejecutarlo\n",
        "\n",
        "con(['a', 1], ['b', 1])"
      ],
      "metadata": {
        "application/vnd.databricks.v1+cell": {
          "title": "",
          "showTitle": false,
          "inputWidgets": {},
          "nuid": "305e27e1-3198-4e15-a316-fae0c4883bd0"
        },
        "colab": {
          "base_uri": "https://localhost:8080/"
        },
        "id": "QFZN8yUkjXMG",
        "outputId": "fc256db1-2d3e-4690-ec3b-17fc248c02d3"
      },
      "outputs": [
        {
          "output_type": "execute_result",
          "data": {
            "text/plain": [
              "['a', 1, 'b', 1]"
            ]
          },
          "metadata": {},
          "execution_count": 5
        }
      ],
      "execution_count": 5
    }
  ],
  "metadata": {
    "kernelspec": {
      "display_name": "Python 3",
      "language": "python",
      "name": "python3"
    },
    "language_info": {
      "mimetype": "text/x-python",
      "name": "python",
      "pygments_lexer": "ipython3",
      "codemirror_mode": {
        "name": "ipython",
        "version": 3
      },
      "version": "3.8.3",
      "nbconvert_exporter": "python",
      "file_extension": ".py"
    },
    "application/vnd.databricks.v1+notebook": {
      "notebookName": "08-Python-Funciones",
      "dashboards": [],
      "notebookMetadata": {
        "pythonIndentUnit": 2
      },
      "language": "python",
      "widgets": {},
      "notebookOrigID": 3296315911138926
    },
    "colab": {
      "provenance": []
    }
  },
  "nbformat": 4,
  "nbformat_minor": 0
}