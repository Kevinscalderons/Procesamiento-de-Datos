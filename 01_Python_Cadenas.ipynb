{
  "cells": [
    {
      "cell_type": "markdown",
      "source": [
        "<h1>Procesamiento de Datos a Gran Escala</h1>\n",
        "\n",
        "## **Cuadernillo 01- Python Cadenas**\n",
        "\n",
        "## **Elaborado Por: Kevin Santiago Calderón Sanchez**\n",
        "## **ID: 00020514087**\n"
      ],
      "metadata": {
        "application/vnd.databricks.v1+cell": {
          "title": "",
          "showTitle": false,
          "inputWidgets": {},
          "nuid": "c5e61d79-8f0e-4413-afff-a73698e18bb5"
        },
        "id": "qU0mBy2YoBXu"
      }
    },
    {
      "cell_type": "markdown",
      "source": [
        "<h2 id=\"quiz\">Exámen sobre Cadenas</h2>"
      ],
      "metadata": {
        "application/vnd.databricks.v1+cell": {
          "title": "",
          "showTitle": false,
          "inputWidgets": {},
          "nuid": "8cfcb624-f5f8-4433-b094-7ad339e9d7ae"
        },
        "id": "GxlKxkAboBYE"
      }
    },
    {
      "cell_type": "markdown",
      "source": [
        "¿Cual es el valor de la variable <code>A</code> después de ejecutar el siguiente código?"
      ],
      "metadata": {
        "application/vnd.databricks.v1+cell": {
          "title": "",
          "showTitle": false,
          "inputWidgets": {},
          "nuid": "8cac69a8-c656-4388-8e47-091031ce304e"
        },
        "id": "OTjelC6JoBYE"
      }
    },
    {
      "cell_type": "code",
      "source": [
        "# Escribe abajo tu código y presiona Shift+Enter para ejecutarlo\n",
        "A = \"1\""
      ],
      "metadata": {
        "application/vnd.databricks.v1+cell": {
          "title": "",
          "showTitle": false,
          "inputWidgets": {},
          "nuid": "ddb3b91a-cb39-4ff4-a4a3-dedfe6fb5ed9"
        },
        "id": "fhuZk2QMoBYE",
        "outputId": "8cadcf48-6fe9-41dd-ea24-8a002b3ce9f8"
      },
      "outputs": [
        {
          "output_type": "display_data",
          "metadata": {
            "application/vnd.databricks.v1+output": {
              "data": "",
              "errorSummary": "",
              "metadata": {},
              "errorTraceType": null,
              "type": "ipynbError",
              "arguments": {}
            }
          },
          "data": {
            "text/html": [
              "<style scoped>\n  .ansiout {\n    display: block;\n    unicode-bidi: embed;\n    white-space: pre-wrap;\n    word-wrap: break-word;\n    word-break: break-all;\n    font-family: \"Source Code Pro\", \"Menlo\", monospace;;\n    font-size: 13px;\n    color: #555;\n    margin-left: 4px;\n    line-height: 19px;\n  }\n</style>"
            ]
          }
        }
      ],
      "execution_count": null
    },
    {
      "cell_type": "markdown",
      "source": [
        "**Respuesta: El valor de la Variable \"A\" corresponderia a: \"1\"**"
      ],
      "metadata": {
        "id": "GmDIPhE0qUA0"
      }
    },
    {
      "cell_type": "markdown",
      "source": [
        "¿Cual es el valor de la variable <code>B</code> después de ejecutar el siguiente código?"
      ],
      "metadata": {
        "application/vnd.databricks.v1+cell": {
          "title": "",
          "showTitle": false,
          "inputWidgets": {},
          "nuid": "4a2b11b3-7994-4d9c-9c9c-fe09ff58516e"
        },
        "id": "dJG30pTMoBYE"
      }
    },
    {
      "cell_type": "code",
      "source": [
        "# Escribe abajo tu código y presiona Shift+Enter para ejecutarlo\n",
        "\n",
        "B = \"2\""
      ],
      "metadata": {
        "application/vnd.databricks.v1+cell": {
          "title": "",
          "showTitle": false,
          "inputWidgets": {},
          "nuid": "b7b54f58-f3b7-4e87-bbe9-84fa5ef80eb7"
        },
        "id": "JLtzKMU1oBYE"
      },
      "outputs": [],
      "execution_count": 1
    },
    {
      "cell_type": "markdown",
      "source": [
        "**Respuesta: El valor de la Variable \"B\" corresponderia a: \"2\"**"
      ],
      "metadata": {
        "application/vnd.databricks.v1+cell": {
          "title": "",
          "showTitle": false,
          "inputWidgets": {},
          "nuid": "e23964d1-cdac-43c4-ac42-855cc74f0eba"
        },
        "id": "veitqn4XoBYE"
      }
    },
    {
      "cell_type": "markdown",
      "source": [
        "¿Cual es el valor de la variable <code>C</code> después de ejecutar el siguiente código?"
      ],
      "metadata": {
        "application/vnd.databricks.v1+cell": {
          "title": "",
          "showTitle": false,
          "inputWidgets": {},
          "nuid": "956a96c3-9fdd-45bf-95f4-3bb6b019a3be"
        },
        "id": "mS0AjBTjoBYE"
      }
    },
    {
      "cell_type": "code",
      "source": [
        "# Escribe abajo tu código y presiona Shift+Enter para ejecutarlo\n",
        "\n",
        "C = A + B"
      ],
      "metadata": {
        "application/vnd.databricks.v1+cell": {
          "title": "",
          "showTitle": false,
          "inputWidgets": {},
          "nuid": "33186c3e-73c4-4983-ad57-127675d91e4b"
        },
        "id": "UrmlyYdPoBYF",
        "outputId": "6dd1dc1a-fca3-4b6e-bdb6-3dfa4cc4e2fa"
      },
      "outputs": [
        {
          "output_type": "display_data",
          "metadata": {
            "application/vnd.databricks.v1+output": {
              "data": "",
              "errorSummary": "",
              "metadata": {},
              "errorTraceType": null,
              "type": "ipynbError",
              "arguments": {}
            }
          },
          "data": {
            "text/html": [
              "<style scoped>\n  .ansiout {\n    display: block;\n    unicode-bidi: embed;\n    white-space: pre-wrap;\n    word-wrap: break-word;\n    word-break: break-all;\n    font-family: \"Source Code Pro\", \"Menlo\", monospace;;\n    font-size: 13px;\n    color: #555;\n    margin-left: 4px;\n    line-height: 19px;\n  }\n</style>"
            ]
          }
        }
      ],
      "execution_count": null
    },
    {
      "cell_type": "markdown",
      "source": [
        "**Respuesta: El valor de la Variable \"C\" corresponderia a: \"12\" dado que es la concadenación de 2 strings**"
      ],
      "metadata": {
        "application/vnd.databricks.v1+cell": {
          "title": "",
          "showTitle": false,
          "inputWidgets": {},
          "nuid": "b703193a-ff7c-4bf2-8c03-c814e4cf9f3a"
        },
        "id": "H1tYKCn0oBYF"
      }
    },
    {
      "cell_type": "markdown",
      "source": [
        "En la variable <code>D</code> haz uso del slicing para imprimir solo los primeros tres elementos:"
      ],
      "metadata": {
        "application/vnd.databricks.v1+cell": {
          "title": "",
          "showTitle": false,
          "inputWidgets": {},
          "nuid": "1ed60bff-748e-4c67-8307-04520da43b97"
        },
        "id": "pMxkInhboBYF"
      }
    },
    {
      "cell_type": "code",
      "source": [
        "# Escribe abajo tu código y presiona Shift+Enter para ejecutarlo\n",
        "\n",
        "D = \"ABCDEFG\"\n",
        "\n",
        "print(D[0:3])"
      ],
      "metadata": {
        "application/vnd.databricks.v1+cell": {
          "title": "",
          "showTitle": false,
          "inputWidgets": {},
          "nuid": "0bbc3088-0e6a-4ef3-ae51-f776a7f079ad"
        },
        "colab": {
          "base_uri": "https://localhost:8080/"
        },
        "id": "CJLrBrSRoBYF",
        "outputId": "29fe0f77-2ada-4e0a-ad5d-70e354ffe531"
      },
      "outputs": [
        {
          "output_type": "stream",
          "name": "stdout",
          "text": [
            "ABC\n"
          ]
        }
      ],
      "execution_count": 3
    },
    {
      "cell_type": "markdown",
      "source": [
        "**Utilizando el metodo print se escogen los 3 primeros caracteres de la cadena de texto**"
      ],
      "metadata": {
        "application/vnd.databricks.v1+cell": {
          "title": "",
          "showTitle": false,
          "inputWidgets": {},
          "nuid": "a13e5374-233c-4bd8-98c7-68393522680a"
        },
        "id": "L8NhwIyYoBYF"
      }
    },
    {
      "cell_type": "markdown",
      "source": [
        "Usa un valor de stride de 2 para imprimir cada segundo elemento de la cadena <code>E</code>:"
      ],
      "metadata": {
        "application/vnd.databricks.v1+cell": {
          "title": "",
          "showTitle": false,
          "inputWidgets": {},
          "nuid": "d4f53ebb-1961-48e4-9349-1a1cb3ed43ac"
        },
        "id": "JLMa8Y6BoBYF"
      }
    },
    {
      "cell_type": "code",
      "source": [
        "# Escribe abajo tu código y presiona Shift+Enter para ejecutarlo\n",
        "\n",
        "E = 'clocrkr1e1c1t'\n",
        "\n",
        "print(E[::2])"
      ],
      "metadata": {
        "collapsed": true,
        "application/vnd.databricks.v1+cell": {
          "title": "",
          "showTitle": false,
          "inputWidgets": {},
          "nuid": "f317b44a-0374-4bce-a3bc-6b0d29a1c342"
        },
        "colab": {
          "base_uri": "https://localhost:8080/"
        },
        "id": "mf_pwfnIoBYF",
        "outputId": "2e098200-a629-4a78-c3f0-5c2edd632c9c"
      },
      "outputs": [
        {
          "output_type": "stream",
          "name": "stdout",
          "text": [
            "correct\n"
          ]
        }
      ],
      "execution_count": 4
    },
    {
      "cell_type": "markdown",
      "source": [
        "**Utilizando el metodo print y un stride de 2 se cada segundo caracter de la cadena de texto**\n"
      ],
      "metadata": {
        "application/vnd.databricks.v1+cell": {
          "title": "",
          "showTitle": false,
          "inputWidgets": {},
          "nuid": "4e105545-8319-47d1-922f-eac36fe75143"
        },
        "id": "Jr8MjbjuoBYF"
      }
    },
    {
      "cell_type": "markdown",
      "source": [
        "Imprime una barra invertida:"
      ],
      "metadata": {
        "application/vnd.databricks.v1+cell": {
          "title": "",
          "showTitle": false,
          "inputWidgets": {},
          "nuid": "2169c64c-7206-4937-a581-0526a875b9d9"
        },
        "id": "HNzidtd7oBYF"
      }
    },
    {
      "cell_type": "code",
      "source": [
        "# Escribe abajo tu código y presiona Shift+Enter para ejecutarlo\n",
        "\n",
        "print(\"\\\\\")"
      ],
      "metadata": {
        "application/vnd.databricks.v1+cell": {
          "title": "",
          "showTitle": false,
          "inputWidgets": {},
          "nuid": "87af61d8-086c-4ca5-8684-c5573bac909c"
        },
        "colab": {
          "base_uri": "https://localhost:8080/"
        },
        "id": "ig1ZMEmuoBYG",
        "outputId": "7fd3d5ac-6606-4a69-fb65-1ac1d93b691a"
      },
      "outputs": [
        {
          "output_type": "stream",
          "name": "stdout",
          "text": [
            "\\\n"
          ]
        }
      ],
      "execution_count": 5
    },
    {
      "cell_type": "markdown",
      "source": [
        "Convierte el mayúsculas el contenido de la variable <code>F</code>:"
      ],
      "metadata": {
        "application/vnd.databricks.v1+cell": {
          "title": "",
          "showTitle": false,
          "inputWidgets": {},
          "nuid": "6814f6cf-b035-4461-b318-7d7471cbcf94"
        },
        "id": "YaBhOsbJoBYG"
      }
    },
    {
      "cell_type": "code",
      "source": [
        "# Escribe abajo tu código y presiona Shift+Enter para ejecutarlo\n",
        "\n",
        "F = \"You are wrong\"\n",
        "F= F.upper()\n",
        "print(F)"
      ],
      "metadata": {
        "application/vnd.databricks.v1+cell": {
          "title": "",
          "showTitle": false,
          "inputWidgets": {},
          "nuid": "034ad3a9-1ef9-419d-9362-8fd0286e5f47"
        },
        "colab": {
          "base_uri": "https://localhost:8080/"
        },
        "id": "Pi8wrwYRoBYG",
        "outputId": "12d53366-391c-4f37-b8c3-04a1e0b6d10b"
      },
      "outputs": [
        {
          "output_type": "stream",
          "name": "stdout",
          "text": [
            "YOU ARE WRONG\n"
          ]
        }
      ],
      "execution_count": 7
    },
    {
      "cell_type": "markdown",
      "source": [
        "**Se utiliza el metodo .uper() que se encarga de convertir en mayusulas todas las letras de una cadena**"
      ],
      "metadata": {
        "application/vnd.databricks.v1+cell": {
          "title": "",
          "showTitle": false,
          "inputWidgets": {},
          "nuid": "59e29f55-1248-4d84-bcc5-e7fb01ef061f"
        },
        "id": "cljfIomMoBYG"
      }
    },
    {
      "cell_type": "markdown",
      "source": [
        "En la variable <code>G</code>, encuentra el primer índice de la sub-cadena <code>snow</code>:"
      ],
      "metadata": {
        "application/vnd.databricks.v1+cell": {
          "title": "",
          "showTitle": false,
          "inputWidgets": {},
          "nuid": "89af9572-7b2e-4344-b61b-e832bddb897c"
        },
        "id": "oNo7bJlMoBYG"
      }
    },
    {
      "cell_type": "code",
      "source": [
        "# Escribe abajo tu código y presiona Shift+Enter para ejecutarlo\n",
        "\n",
        "G = \"Mary had a little lamb Little lamb, little lamb Mary had a little lamb \\\n",
        "Its fleece was white as snow And everywhere that Mary went Mary went, Mary went \\\n",
        "Everywhere that Mary went The lamb was sure to go\"\n",
        "G.find(\"snow\")"
      ],
      "metadata": {
        "application/vnd.databricks.v1+cell": {
          "title": "",
          "showTitle": false,
          "inputWidgets": {},
          "nuid": "721a128c-d297-4149-bbdd-646140d2dd59"
        },
        "colab": {
          "base_uri": "https://localhost:8080/"
        },
        "id": "KxDL0AhCoBYG",
        "outputId": "293a1609-8b24-464b-e86b-7cf1cd2b5156"
      },
      "outputs": [
        {
          "output_type": "execute_result",
          "data": {
            "text/plain": [
              "95"
            ]
          },
          "metadata": {},
          "execution_count": 8
        }
      ],
      "execution_count": 8
    },
    {
      "cell_type": "markdown",
      "source": [
        "En la variable <code>G</code>, reemplaza la sub-cadena <code>Mary</code> con <code>Bob</code>:"
      ],
      "metadata": {
        "application/vnd.databricks.v1+cell": {
          "title": "",
          "showTitle": false,
          "inputWidgets": {},
          "nuid": "157b212b-6b79-4fe4-9284-f9e0e1f3dcd1"
        },
        "id": "ixiyvMFioBYH"
      }
    },
    {
      "cell_type": "code",
      "source": [
        "# Escribe abajo tu código y presiona Shift+Enter para ejecutarlo\n",
        "\n",
        "G.replace(\"Mary\", \"Bob\")"
      ],
      "metadata": {
        "application/vnd.databricks.v1+cell": {
          "title": "",
          "showTitle": false,
          "inputWidgets": {},
          "nuid": "ea8ee7aa-cedd-40c2-8d01-35f09d62109d"
        },
        "colab": {
          "base_uri": "https://localhost:8080/",
          "height": 36
        },
        "id": "OcnxBsvboBYH",
        "outputId": "6d106e08-751b-4b8e-b0e7-0b3d817cbe8a"
      },
      "outputs": [
        {
          "output_type": "execute_result",
          "data": {
            "text/plain": [
              "'Bob had a little lamb Little lamb, little lamb Bob had a little lamb Its fleece was white as snow And everywhere that Bob went Bob went, Bob went Everywhere that Bob went The lamb was sure to go'"
            ],
            "application/vnd.google.colaboratory.intrinsic+json": {
              "type": "string"
            }
          },
          "metadata": {},
          "execution_count": 10
        }
      ],
      "execution_count": 10
    }
  ],
  "metadata": {
    "kernelspec": {
      "display_name": "Python 3",
      "language": "python",
      "name": "python3"
    },
    "language_info": {
      "mimetype": "text/x-python",
      "name": "python",
      "pygments_lexer": "ipython3",
      "codemirror_mode": {
        "name": "ipython",
        "version": 3
      },
      "version": "3.8.3",
      "nbconvert_exporter": "python",
      "file_extension": ".py"
    },
    "application/vnd.databricks.v1+notebook": {
      "notebookName": "01-Python-Cadenas",
      "dashboards": [],
      "notebookMetadata": {
        "pythonIndentUnit": 2
      },
      "language": "python",
      "widgets": {},
      "notebookOrigID": 3377342904741170
    },
    "colab": {
      "provenance": []
    }
  },
  "nbformat": 4,
  "nbformat_minor": 0
}