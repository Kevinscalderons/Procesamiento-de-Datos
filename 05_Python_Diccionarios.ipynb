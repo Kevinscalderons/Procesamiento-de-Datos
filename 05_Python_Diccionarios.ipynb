{
  "cells": [
    {
      "cell_type": "markdown",
      "source": [
        "<h1>Procesamiento de Datos a Gran Escala</h1>\n",
        "\n",
        "## **Cuadernillo 05- Diccionarios**\n",
        "\n",
        "## **Elaborado Por: Kevin Santiago Calderón Sanchez**\n",
        "## **ID: 00020514087**"
      ],
      "metadata": {
        "application/vnd.databricks.v1+cell": {
          "title": "",
          "showTitle": false,
          "inputWidgets": {},
          "nuid": "6d434104-86b8-4c41-a59b-623f89a107cd"
        },
        "id": "v_2axKcogU35"
      }
    },
    {
      "cell_type": "markdown",
      "source": [
        "<h2>Diccionarios en Python</h2>"
      ],
      "metadata": {
        "application/vnd.databricks.v1+cell": {
          "title": "",
          "showTitle": false,
          "inputWidgets": {},
          "nuid": "ca8a69a5-0b3b-47b8-a7f9-159a320590ba"
        },
        "id": "qt3I5RETgU4A"
      }
    },
    {
      "cell_type": "markdown",
      "source": [
        "<h2 id=\"quiz\">Cuestionario sobre Diccionarios</h2>"
      ],
      "metadata": {
        "application/vnd.databricks.v1+cell": {
          "title": "",
          "showTitle": false,
          "inputWidgets": {},
          "nuid": "0098716f-2f97-477a-af21-5cefd29b1f56"
        },
        "id": "BZ_wH90ggU4u"
      }
    },
    {
      "cell_type": "markdown",
      "source": [
        "<b>Necesitarás este diccionario para las siguientes dos preguntas:</b>"
      ],
      "metadata": {
        "application/vnd.databricks.v1+cell": {
          "title": "",
          "showTitle": false,
          "inputWidgets": {},
          "nuid": "2f0c5b32-ce02-4963-ba6d-c43ce95feb45"
        },
        "id": "HM7UFn8pgU4v"
      }
    },
    {
      "cell_type": "code",
      "source": [
        "# Pregunta - Diccionario de ejemplo\n",
        "\n",
        "soundtrack_dic = {\"The Bodyguard\":\"1992\", \"Saturday Night Fever\":\"1977\"}\n",
        "soundtrack_dic"
      ],
      "metadata": {
        "application/vnd.databricks.v1+cell": {
          "title": "",
          "showTitle": false,
          "inputWidgets": {},
          "nuid": "7f3c4221-f50e-4854-a57c-671747557f93"
        },
        "colab": {
          "base_uri": "https://localhost:8080/"
        },
        "id": "HYaEBqzSgU4w",
        "outputId": "40d95bae-e68b-4474-e637-89ccfdebb47d"
      },
      "outputs": [
        {
          "output_type": "execute_result",
          "data": {
            "text/plain": [
              "{'The Bodyguard': '1992', 'Saturday Night Fever': '1977'}"
            ]
          },
          "metadata": {},
          "execution_count": 1
        }
      ],
      "execution_count": 1
    },
    {
      "cell_type": "markdown",
      "source": [
        "a) En el diccionario <code>soundtrack_dict</code>. ¿Cuáles son las llaves?"
      ],
      "metadata": {
        "application/vnd.databricks.v1+cell": {
          "title": "",
          "showTitle": false,
          "inputWidgets": {},
          "nuid": "221d2aad-a7e8-4b95-988d-86669961318f"
        },
        "id": "OaNVktSggU4y"
      }
    },
    {
      "cell_type": "code",
      "source": [
        "# Escribe abajo tu código y presiona Shift+Enter para\n",
        "\n",
        "\n",
        "soundtrack_dic.keys()"
      ],
      "metadata": {
        "application/vnd.databricks.v1+cell": {
          "title": "",
          "showTitle": false,
          "inputWidgets": {},
          "nuid": "bee1d6f8-5933-4079-81c6-ac56fa5e02f7"
        },
        "colab": {
          "base_uri": "https://localhost:8080/"
        },
        "id": "6-lVwwYCgU4z",
        "outputId": "11e2b4a6-f4fd-46e0-adb3-8df1be32269f"
      },
      "outputs": [
        {
          "output_type": "execute_result",
          "data": {
            "text/plain": [
              "dict_keys(['The Bodyguard', 'Saturday Night Fever'])"
            ]
          },
          "metadata": {},
          "execution_count": 2
        }
      ],
      "execution_count": 2
    },
    {
      "cell_type": "markdown",
      "source": [
        "b) En el diccionario <code>soundtrack_dict</code>. ¿Cuáles son los valores?"
      ],
      "metadata": {
        "application/vnd.databricks.v1+cell": {
          "title": "",
          "showTitle": false,
          "inputWidgets": {},
          "nuid": "e277c4fd-98c0-4582-b8bc-5788994309a9"
        },
        "id": "I3IakdzsgU41"
      }
    },
    {
      "cell_type": "code",
      "source": [
        "# Escribe abajo tu código y presiona Shift+Enter para\n",
        "\n",
        "soundtrack_dic.values()"
      ],
      "metadata": {
        "application/vnd.databricks.v1+cell": {
          "title": "",
          "showTitle": false,
          "inputWidgets": {},
          "nuid": "3ddfe078-6bbe-4c03-b823-2752fa3ad5c6"
        },
        "colab": {
          "base_uri": "https://localhost:8080/"
        },
        "id": "NP7sBKJvgU41",
        "outputId": "95ac2133-561d-463d-a4de-592425caf844"
      },
      "outputs": [
        {
          "output_type": "execute_result",
          "data": {
            "text/plain": [
              "dict_values(['1992', '1977'])"
            ]
          },
          "metadata": {},
          "execution_count": 3
        }
      ],
      "execution_count": 3
    },
    {
      "cell_type": "markdown",
      "source": [
        "<b>Necesitarás este diccionario para las siguientes preguntas:</b>"
      ],
      "metadata": {
        "application/vnd.databricks.v1+cell": {
          "title": "",
          "showTitle": false,
          "inputWidgets": {},
          "nuid": "d0517809-da4a-4990-8fc0-7c1b166b6527"
        },
        "id": "IC-wGXVkgU43"
      }
    },
    {
      "cell_type": "markdown",
      "source": [
        "Los discos <b>Back in Black</b>, <b>The Bodyguard</b> y <b>Thriller</b> poseen el siguiente record de ventas en millones, 50, 50 y 65 respectivamente:"
      ],
      "metadata": {
        "application/vnd.databricks.v1+cell": {
          "title": "",
          "showTitle": false,
          "inputWidgets": {},
          "nuid": "1cd9afbb-9c22-46e8-a6e4-241e77dfeff9"
        },
        "id": "JBPCkujIgU44"
      }
    },
    {
      "cell_type": "markdown",
      "source": [
        "a) Crea un diccionario <code>album_sales_dict</code> donde las llaves sean el nombre del disco y los valores la cantidad de ventas en millones."
      ],
      "metadata": {
        "application/vnd.databricks.v1+cell": {
          "title": "",
          "showTitle": false,
          "inputWidgets": {},
          "nuid": "b87e1dec-be77-4ae4-adb2-fcdfa4b952c3"
        },
        "id": "SbJ2bfNIgU45"
      }
    },
    {
      "cell_type": "code",
      "source": [
        "# Escribe abajo tu código y presiona Shift+Enter para ejecutarlo\n",
        "\n",
        "album_sales_dict = {\"The Bodyguard\":50, \"Back in Black\":50, \"Thriller\":65}"
      ],
      "metadata": {
        "collapsed": true,
        "application/vnd.databricks.v1+cell": {
          "title": "",
          "showTitle": false,
          "inputWidgets": {},
          "nuid": "4e53f4f3-b253-4267-b7d7-a5935789ddfe"
        },
        "id": "5d7T2x24gU46"
      },
      "outputs": [],
      "execution_count": 5
    },
    {
      "cell_type": "markdown",
      "source": [
        "b) Usa el diccionario para encontrar las ventas totales de <b>Thriller</b>:"
      ],
      "metadata": {
        "application/vnd.databricks.v1+cell": {
          "title": "",
          "showTitle": false,
          "inputWidgets": {},
          "nuid": "a92ec325-9a51-4e7e-b91d-731d5bf8599d"
        },
        "id": "UBTeG0HkgU48"
      }
    },
    {
      "cell_type": "code",
      "source": [
        "# Escribe abajo tu código y presiona Shift+Enter para ejecutarlo\n",
        "\n",
        "album_sales_dict[\"Thriller\"]"
      ],
      "metadata": {
        "application/vnd.databricks.v1+cell": {
          "title": "",
          "showTitle": false,
          "inputWidgets": {},
          "nuid": "5ee6e52a-feff-44ae-9c56-16b9580e08c8"
        },
        "colab": {
          "base_uri": "https://localhost:8080/"
        },
        "id": "VRI7YzMLgU49",
        "outputId": "54f5f406-d9c5-4e60-8b47-53dc76574a02"
      },
      "outputs": [
        {
          "output_type": "execute_result",
          "data": {
            "text/plain": [
              "65"
            ]
          },
          "metadata": {},
          "execution_count": 6
        }
      ],
      "execution_count": 6
    },
    {
      "cell_type": "markdown",
      "source": [
        "c) Encuentra los nombres de los discos dentro del diccionario mediante el método <code>keys</code>:"
      ],
      "metadata": {
        "application/vnd.databricks.v1+cell": {
          "title": "",
          "showTitle": false,
          "inputWidgets": {},
          "nuid": "b2ad71a4-f523-4322-bd4a-3d8216c84574"
        },
        "id": "5n-mwHA3gU4_"
      }
    },
    {
      "cell_type": "code",
      "source": [
        "# Escribe abajo tu código y presiona Shift+Enter para ejecutarlo\n",
        "\n",
        "album_sales_dict.keys()"
      ],
      "metadata": {
        "application/vnd.databricks.v1+cell": {
          "title": "",
          "showTitle": false,
          "inputWidgets": {},
          "nuid": "f6de55cb-c76f-4510-92ad-002dce6e9507"
        },
        "colab": {
          "base_uri": "https://localhost:8080/"
        },
        "id": "EDzdKz9_gU5A",
        "outputId": "ee46ec3e-c192-490b-81fc-916519e13086"
      },
      "outputs": [
        {
          "output_type": "execute_result",
          "data": {
            "text/plain": [
              "dict_keys(['The Bodyguard', 'Back in Black', 'Thriller'])"
            ]
          },
          "metadata": {},
          "execution_count": 7
        }
      ],
      "execution_count": 7
    },
    {
      "cell_type": "markdown",
      "source": [
        "d) Encuentra los records de ventas dentro del diccionario mediante el método <code>values</code>:"
      ],
      "metadata": {
        "application/vnd.databricks.v1+cell": {
          "title": "",
          "showTitle": false,
          "inputWidgets": {},
          "nuid": "7666a119-1de4-4499-a376-84860b717e13"
        },
        "id": "Vr90fkq_gU5C"
      }
    },
    {
      "cell_type": "code",
      "source": [
        "# Escribe abajo tu código y presiona Shift+Enter para ejecutarlo\n",
        "\n",
        "album_sales_dict.values()"
      ],
      "metadata": {
        "application/vnd.databricks.v1+cell": {
          "title": "",
          "showTitle": false,
          "inputWidgets": {},
          "nuid": "8f112397-8882-46cc-b310-d8ff50f6e2d0"
        },
        "colab": {
          "base_uri": "https://localhost:8080/"
        },
        "id": "ws8e0dLPgU5D",
        "outputId": "40ec2fca-0247-49bc-bd69-4da8a499d9ae"
      },
      "outputs": [
        {
          "output_type": "execute_result",
          "data": {
            "text/plain": [
              "dict_values([50, 50, 65])"
            ]
          },
          "metadata": {},
          "execution_count": 8
        }
      ],
      "execution_count": 8
    }
  ],
  "metadata": {
    "kernelspec": {
      "display_name": "Python 3",
      "language": "python",
      "name": "python3"
    },
    "language_info": {
      "mimetype": "text/x-python",
      "name": "python",
      "pygments_lexer": "ipython3",
      "codemirror_mode": {
        "name": "ipython",
        "version": 3
      },
      "version": "3.7.7",
      "nbconvert_exporter": "python",
      "file_extension": ".py"
    },
    "application/vnd.databricks.v1+notebook": {
      "notebookName": "05-Python-Diccionarios",
      "dashboards": [],
      "notebookMetadata": {
        "pythonIndentUnit": 2
      },
      "language": "python",
      "widgets": {},
      "notebookOrigID": 3296315911138096
    },
    "colab": {
      "provenance": []
    }
  },
  "nbformat": 4,
  "nbformat_minor": 0
}